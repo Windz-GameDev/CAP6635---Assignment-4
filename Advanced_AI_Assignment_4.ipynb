{
 "cells": [
  {
   "cell_type": "markdown",
   "metadata": {},
   "source": [
    "Read in Wine Dataset, Inspect Data"
   ]
  },
  {
   "cell_type": "code",
   "execution_count": 74,
   "metadata": {},
   "outputs": [
    {
     "name": "stdout",
     "output_type": "stream",
     "text": [
      "   Class  Alcohol  Malic_acid   Ash  Alcalinity_of_ash  Magnesium  \\\n",
      "0      1    14.23        1.71  2.43               15.6        127   \n",
      "1      1    13.20        1.78  2.14               11.2        100   \n",
      "2      1    13.16        2.36  2.67               18.6        101   \n",
      "3      1    14.37        1.95  2.50               16.8        113   \n",
      "4      1    13.24        2.59  2.87               21.0        118   \n",
      "\n",
      "   Total_phenols  Flavanoids  Nonflavanoid_phenols  Proanthocyanins  \\\n",
      "0           2.80        3.06                  0.28             2.29   \n",
      "1           2.65        2.76                  0.26             1.28   \n",
      "2           2.80        3.24                  0.30             2.81   \n",
      "3           3.85        3.49                  0.24             2.18   \n",
      "4           2.80        2.69                  0.39             1.82   \n",
      "\n",
      "   Color_intensity   Hue  OD280_OD315_of_diluted_wines  Proline  \n",
      "0             5.64  1.04                          3.92     1065  \n",
      "1             4.38  1.05                          3.40     1050  \n",
      "2             5.68  1.03                          3.17     1185  \n",
      "3             7.80  0.86                          3.45     1480  \n",
      "4             4.32  1.04                          2.93      735  \n"
     ]
    }
   ],
   "source": [
    "import pandas as pd\n",
    "\n",
    "# Define column names\n",
    "wine_dataset_column_names = [\n",
    "              'Class', 'Alcohol', 'Malic_acid', 'Ash', 'Alcalinity_of_ash', 'Magnesium',\n",
    "              'Total_phenols', 'Flavanoids', 'Nonflavanoid_phenols', 'Proanthocyanins',\n",
    "              'Color_intensity',  'Hue', 'OD280_OD315_of_diluted_wines', 'Proline'\n",
    "]\n",
    "\n",
    "# Read in datasets\n",
    "wine_dataset = pd.read_csv('./datasets/wine.data', header=None, names=wine_dataset_column_names)\n",
    "\n",
    "# Inspect the data\n",
    "print(wine_dataset.head())\n",
    "\n"
   ]
  },
  {
   "cell_type": "markdown",
   "metadata": {},
   "source": [
    "# Split create features dataset and y label series"
   ]
  },
  {
   "cell_type": "code",
   "execution_count": 75,
   "metadata": {},
   "outputs": [
    {
     "name": "stdout",
     "output_type": "stream",
     "text": [
      "(178, 13)\n",
      "(178,)\n"
     ]
    }
   ],
   "source": [
    "# Seperate training features and target variable\n",
    "wine_X = wine_dataset.drop('Class', axis=1) # Drop whole target column from dataset and assign it to X\n",
    "wine_y = wine_dataset['Class'] # Target variable\n",
    "\n",
    "# Verify number of samples match\n",
    "print(wine_X.shape)\n",
    "print(wine_y.shape)\n",
    "\n"
   ]
  },
  {
   "cell_type": "markdown",
   "metadata": {},
   "source": [
    "Perform ten fold cross volidation for Decision Tree for Wine Dataset"
   ]
  },
  {
   "cell_type": "code",
   "execution_count": 76,
   "metadata": {},
   "outputs": [
    {
     "name": "stdout",
     "output_type": "stream",
     "text": [
      "Accuracy: Mean = 0.865, Std = 0.091\n",
      "Precision: Mean = 0.889, Std = 0.069\n",
      "Recall: Mean = 0.865, Std = 0.091\n"
     ]
    }
   ],
   "source": [
    "from sklearn.model_selection import cross_validate\n",
    "from sklearn.tree import DecisionTreeClassifier \n",
    "import numpy as np\n",
    "\n",
    "# Initialize decision tree model \n",
    "wine_decision_tree = DecisionTreeClassifier(random_state=42)\n",
    "\n",
    "# Map scoring metrics to actual scoring strings\n",
    "scoring = {'accuracy': 'accuracy',\n",
    "           'precision': 'precision_weighted',\n",
    "            'recall': 'recall_weighted' \n",
    "          }\n",
    "\n",
    "# Perform ten fold cross validation using decision tree, scoring parameters tells waht metrics we want\n",
    "wine_decision_tree_scores = cross_validate(wine_decision_tree, wine_X, wine_y, cv=10, scoring=scoring)\n",
    "\n",
    "# Calculate and display mean and standard deviation of scores for decision tree\n",
    "print(f\"Accuracy: Mean = {np.mean(wine_decision_tree_scores['test_accuracy']):.3f}, Std = {np.std(wine_decision_tree_scores['test_accuracy']):.3f}\")\n",
    "print(f\"Precision: Mean = {np.mean(wine_decision_tree_scores['test_precision']):.3f}, Std = {np.std(wine_decision_tree_scores['test_precision']):.3f}\")\n",
    "print(f\"Recall: Mean = {np.mean(wine_decision_tree_scores['test_recall']):.3f}, Std = {np.std(wine_decision_tree_scores['test_recall']):.3f}\")\n",
    "\n"
   ]
  },
  {
   "cell_type": "markdown",
   "metadata": {},
   "source": [
    "Perform ten fold cross validation for Naive Bayes for the Wine Dataset"
   ]
  },
  {
   "cell_type": "code",
   "execution_count": 77,
   "metadata": {},
   "outputs": [
    {
     "name": "stdout",
     "output_type": "stream",
     "text": [
      "Accuracy: Mean = 0.978, Std = 0.027\n",
      "Precision: Mean = 0.981, Std = 0.023\n",
      "Recall: Mean = 0.978, Std = 0.027\n"
     ]
    }
   ],
   "source": [
    "from sklearn.naive_bayes import GaussianNB\n",
    "\n",
    "# Initialize Naive Bayes model\n",
    "wine_naive_bayes = GaussianNB()\n",
    "\n",
    "# Perform ten-fold cross-validation using Naive Bayes\n",
    "wine_naive_bayes_scores = cross_validate(wine_naive_bayes, wine_X, wine_y, cv=10, scoring=scoring)\n",
    "\n",
    "# Calculate and display mean and standard deviation of scores for Naive Bayes\n",
    "print(f\"Accuracy: Mean = {np.mean(wine_naive_bayes_scores['test_accuracy']):.3f}, Std = {np.std(wine_naive_bayes_scores['test_accuracy']):.3f}\")\n",
    "print(f\"Precision: Mean = {np.mean(wine_naive_bayes_scores['test_precision']):.3f}, Std = {np.std(wine_naive_bayes_scores['test_precision']):.3f}\")\n",
    "print(f\"Recall: Mean = {np.mean(wine_naive_bayes_scores['test_recall']):.3f}, Std = {np.std(wine_naive_bayes_scores['test_recall']):.3f}\")\n"
   ]
  },
  {
   "cell_type": "markdown",
   "metadata": {},
   "source": [
    "Perform ten fold cross validation for SVM for the Wine Dataset"
   ]
  },
  {
   "cell_type": "code",
   "execution_count": 89,
   "metadata": {},
   "outputs": [
    {
     "name": "stdout",
     "output_type": "stream",
     "text": [
      "Accuracy: Mean = 0.978, Std = 0.027\n",
      "Precision: Mean = 0.981, Std = 0.024\n",
      "Recall: Mean = 0.978, Std = 0.027\n"
     ]
    }
   ],
   "source": [
    "from sklearn.svm import SVC\n",
    "from sklearn.preprocessing import StandardScaler\n",
    "from sklearn.pipeline import make_pipeline\n",
    "\n",
    "# Create SVM classifer\n",
    "# Using standard scaling since SVMs are sensitive to unscaled data\n",
    "wine_svm_classifier = make_pipeline(StandardScaler(), SVC(random_state=42))\n",
    "\n",
    "wine_svm_classifier_scores = cross_validate(wine_svm_classifier, wine_X, wine_y, cv=10, scoring=scoring)\n",
    "\n",
    "# Calculate and display mean and standard deviation of scores for Support Vector Machine Classifier\n",
    "print(f\"Accuracy: Mean = {np.mean(wine_svm_classifier_scores['test_accuracy']):.3f}, Std = {np.std(wine_svm_classifier_scores['test_accuracy']):.3f}\")\n",
    "print(f\"Precision: Mean = {np.mean(wine_svm_classifier_scores['test_precision']):.3f}, Std = {np.std(wine_svm_classifier_scores['test_precision']):.3f}\")\n",
    "print(f\"Recall: Mean = {np.mean(wine_svm_classifier_scores['test_recall']):.3f}, Std = {np.std(wine_svm_classifier_scores['test_recall']):.3f}\")"
   ]
  },
  {
   "cell_type": "markdown",
   "metadata": {},
   "source": [
    "Extract range scores and means"
   ]
  },
  {
   "cell_type": "code",
   "execution_count": 79,
   "metadata": {},
   "outputs": [],
   "source": [
    "# Define function to extract plotting values for each classifier\n",
    "\n",
    "def extract_plotting_scores(scores):\n",
    "    mean_accuracy = np.mean(scores['test_accuracy'])\n",
    "    min_accuracy = np.min(scores['test_accuracy'])\n",
    "    max_accuracy = np.max(scores['test_accuracy'])\n",
    "\n",
    "    mean_precision = np.mean(scores['test_precision'])\n",
    "    min_precision = np.min(scores['test_precision'])\n",
    "    max_precision = np.max(scores['test_precision'])\n",
    "\n",
    "    mean_recall = np.mean(scores['test_recall'])\n",
    "    min_recall = np.min(scores['test_recall'])\n",
    "    max_recall = np.max(scores['test_recall'])\n",
    "\n",
    "    return { \n",
    "        'accuracy': (mean_accuracy, min_accuracy, max_accuracy),\n",
    "        'precision': (mean_precision, min_precision, max_precision),\n",
    "        'recall': (mean_recall, min_recall, max_recall)\n",
    "    }\n",
    "\n",
    "# Extract plotting scores for each classifier for wine dataset\n",
    "wine_decision_tree_plotting_scores = extract_plotting_scores(wine_decision_tree_scores)\n",
    "wine_naive_bayes_plotting_scores = extract_plotting_scores(wine_naive_bayes_scores)\n",
    "wine_svm_classifier_plotting_scores = extract_plotting_scores(wine_svm_classifier_scores)\n"
   ]
  },
  {
   "cell_type": "markdown",
   "metadata": {},
   "source": [
    "Store data in a format that is easily plotted"
   ]
  },
  {
   "cell_type": "code",
   "execution_count": 85,
   "metadata": {},
   "outputs": [
    {
     "name": "stdout",
     "output_type": "stream",
     "text": [
      "{'accuracy': {'means': [0.865032679738562, 0.9777777777777779, 0.9777777777777779], 'ranges': [(0.6666666666666666, 1.0), (0.9444444444444444, 1.0), (0.9444444444444444, 1.0)]}, 'precision': {'means': [0.8890035273368607, 0.9810185185185185, 0.9807870370370371], 'ranges': [(0.7430555555555556, 1.0), (0.9513888888888888, 1.0), (0.9513888888888888, 1.0)]}, 'recall': {'means': [0.865032679738562, 0.9777777777777779, 0.9777777777777779], 'ranges': [(0.6666666666666666, 1.0), (0.9444444444444444, 1.0), (0.9444444444444444, 1.0)]}}\n"
     ]
    }
   ],
   "source": [
    "# Define classifiers for the y axis of the horizontal bar chart\n",
    "classifiers = ['Decision Tree', 'Naive Bayes', 'SVM']\n",
    "\n",
    "metrics = ['accuracy', 'precision', 'recall']\n",
    "\n",
    "def format_data(decision_tree_plotting_scores, naive_bayes_plotting_scores, svm_classifier_plotting_scores):\n",
    "\n",
    "    # Initialize dictionary for storage of plotting data.\n",
    "    # Each metric is a nested dictionary with keys and values for both means and ranges.\n",
    "    plotting_data = {metric: {'means': [], 'ranges': []} for metric in metrics}\n",
    "\n",
    "    # Populate the dictionary with the extracted scores\n",
    "    for plotting_scores in [decision_tree_plotting_scores, naive_bayes_plotting_scores, svm_classifier_plotting_scores]:\n",
    "        for metric in metrics: \n",
    "            mean, min_val, max_val = plotting_scores[metric]\n",
    "            plotting_data[metric]['means'].append(mean)\n",
    "            plotting_data[metric]['ranges'].append((min_val, max_val))\n",
    "\n",
    "    return plotting_data\n",
    "\n",
    "wine_plotting_data = format_data(wine_decision_tree_plotting_scores, wine_naive_bayes_plotting_scores, wine_svm_classifier_plotting_scores)\n",
    "\n",
    "print(wine_plotting_data)"
   ]
  },
  {
   "cell_type": "markdown",
   "metadata": {},
   "source": [
    "Create and display a plot for each metric"
   ]
  },
  {
   "cell_type": "code",
   "execution_count": 88,
   "metadata": {},
   "outputs": [
    {
     "data": {
      "image/png": "[encoded data removed]",
      "text/plain": [
       "<Figure size 1000x600 with 1 Axes>"
      ]
     },
     "metadata": {},
     "output_type": "display_data"
    },
    {
     "data": {
      "image/png": "[encoded data removed]",
      "text/plain": [
       "<Figure size 1000x600 with 1 Axes>"
      ]
     },
     "metadata": {},
     "output_type": "display_data"
    },
    {
     "data": {
      "image/png": "[encoded data removed]",
      "text/plain": [
       "<Figure size 1000x600 with 1 Axes>"
      ]
     },
     "metadata": {},
     "output_type": "display_data"
    }
   ],
   "source": [
    "import matplotlib.pyplot as plt\n",
    "\n",
    "def plot_metric_with_range(plotting_data, metric_name):\n",
    "\n",
    "    # Position each classifier on the y-axis\n",
    "    y_pos = np.arange(len(classifiers))\n",
    "    plt.figure(figsize=(10, 6))\n",
    "\n",
    "    for i, (mean, range_vals) in enumerate(zip(plotting_data[metric_name]['means'], plotting_data[metric_name]['ranges'])):\n",
    "        min_val, max_val = range_vals\n",
    "        plt.plot([min_val, max_val], [i, i], color='gray', linestyle='-', marker='', alpha=0.5) # Range line\n",
    "        plt.plot(mean, i, 'o', color='red', markersize=8) # Mean circle\n",
    "\n",
    "\n",
    "    plt.yticks(y_pos, classifiers)\n",
    "    plt.xlabel(f'{metric_name.capitalize()}') # Use the metric name for x-axis label\n",
    "    plt.title(f'{metric_name.capitalize()} Comparison')\n",
    "    plt.xlim(0, 1)\n",
    "\n",
    "    plt.show()\n",
    "\n",
    "# Plot each metric with its range and mean for each classifier on the wine dataset\n",
    "for metric in metrics:\n",
    "    plot_metric_with_range(wine_plotting_data, metric)"
   ]
  },
  {
   "cell_type": "markdown",
   "metadata": {},
   "source": [
    "Read in Iris dataset and inspect the data"
   ]
  },
  {
   "cell_type": "code",
   "execution_count": null,
   "metadata": {},
   "outputs": [
    {
     "name": "stdout",
     "output_type": "stream",
     "text": [
      "   sepal_length  sepal_width  petal_length  petal_width        class\n",
      "0           5.1          3.5           1.4          0.2  Iris-setosa\n",
      "1           4.9          3.0           1.4          0.2  Iris-setosa\n",
      "2           4.7          3.2           1.3          0.2  Iris-setosa\n",
      "3           4.6          3.1           1.5          0.2  Iris-setosa\n",
      "4           5.0          3.6           1.4          0.2  Iris-setosa\n"
     ]
    }
   ],
   "source": [
    "# Define column names\n",
    "iris_dataset_column_names = [\n",
    "    'sepal_length', 'sepal_width', 'petal_length', 'petal_width', 'class'\n",
    "]\n",
    "\n",
    "# Read in datasets\n",
    "iris_dataset = pd.read_csv('./datasets/iris.data', header=None, names=iris_dataset_column_names)\n",
    "\n",
    "# Inspect the data\n",
    "print(iris_dataset.head())"
   ]
  },
  {
   "cell_type": "markdown",
   "metadata": {},
   "source": [
    "Split data into X features and y labels"
   ]
  },
  {
   "cell_type": "code",
   "execution_count": null,
   "metadata": {},
   "outputs": [
    {
     "name": "stdout",
     "output_type": "stream",
     "text": [
      "(150, 4)\n",
      "(150,)\n"
     ]
    }
   ],
   "source": [
    "# Seperate training features and target variable\n",
    "iris_X = iris_dataset.drop('class', axis=1) # Drop whole target column from dataset and assign it to X\n",
    "iris_y = iris_dataset['class'] # Target variable\n",
    "\n",
    "# Verify number of samples match\n",
    "print(iris_X.shape)\n",
    "print(iris_y.shape)\n"
   ]
  },
  {
   "cell_type": "markdown",
   "metadata": {},
   "source": [
    "Perform ten fold cross validation for Iris Dataset using Decision Tree"
   ]
  },
  {
   "cell_type": "code",
   "execution_count": null,
   "metadata": {},
   "outputs": [
    {
     "name": "stdout",
     "output_type": "stream",
     "text": [
      "Accuracy: Mean = 0.953, Std = 0.043\n",
      "Precision: Mean = 0.959, Std = 0.040\n",
      "Recall: Mean = 0.953, Std = 0.043\n"
     ]
    }
   ],
   "source": [
    "# Initialize decision tree model \n",
    "iris_decision_tree = DecisionTreeClassifier(random_state=42)\n",
    "\n",
    "# Perform ten fold cross validation using decision tree, scoring parameters tells waht metrics we want\n",
    "iris_decision_tree_scores = cross_validate(iris_decision_tree, iris_X, iris_y, cv=10, scoring=scoring)\n",
    "\n",
    "# Calculate and display mean and standard deviation of scores for decision tree\n",
    "print(f\"Accuracy: Mean = {np.mean(iris_decision_tree_scores['test_accuracy']):.3f}, Std = {np.std(iris_decision_tree_scores['test_accuracy']):.3f}\")\n",
    "print(f\"Precision: Mean = {np.mean(iris_decision_tree_scores['test_precision']):.3f}, Std = {np.std(iris_decision_tree_scores['test_precision']):.3f}\")\n",
    "print(f\"Recall: Mean = {np.mean(iris_decision_tree_scores['test_recall']):.3f}, Std = {np.std(iris_decision_tree_scores['test_recall']):.3f}\")"
   ]
  },
  {
   "cell_type": "markdown",
   "metadata": {},
   "source": [
    "Perform ten fold cross validation for Naive Bayes"
   ]
  },
  {
   "cell_type": "code",
   "execution_count": null,
   "metadata": {},
   "outputs": [
    {
     "name": "stdout",
     "output_type": "stream",
     "text": [
      "Accuracy: Mean = 0.953, Std = 0.043\n",
      "Precision: Mean = 0.963, Std = 0.033\n",
      "Recall: Mean = 0.953, Std = 0.043\n"
     ]
    }
   ],
   "source": [
    "# Initialize Naive Bayes model\n",
    "iris_naive_bayes = GaussianNB()\n",
    "\n",
    "# Perform ten-fold cross-validation using Naive Bayes\n",
    "iris_naive_bayes_scores = cross_validate(iris_naive_bayes, iris_X, iris_y, cv=10, scoring=scoring)\n",
    "\n",
    "# Calculate and display mean and standard deviation of scores for Naive Bayes\n",
    "print(f\"Accuracy: Mean = {np.mean(iris_naive_bayes_scores['test_accuracy']):.3f}, Std = {np.std(iris_naive_bayes_scores['test_accuracy']):.3f}\")\n",
    "print(f\"Precision: Mean = {np.mean(iris_naive_bayes_scores['test_precision']):.3f}, Std = {np.std(iris_naive_bayes_scores['test_precision']):.3f}\")\n",
    "print(f\"Recall: Mean = {np.mean(iris_naive_bayes_scores['test_recall']):.3f}, Std = {np.std(iris_naive_bayes_scores['test_recall']):.3f}\")\n"
   ]
  },
  {
   "cell_type": "markdown",
   "metadata": {},
   "source": [
    "Perform ten fold cross validation for SVM"
   ]
  },
  {
   "cell_type": "code",
   "execution_count": null,
   "metadata": {},
   "outputs": [
    {
     "name": "stdout",
     "output_type": "stream",
     "text": [
      "Accuracy: Mean = 0.967, Std = 0.045\n",
      "Precision: Mean = 0.970, Std = 0.042\n",
      "Recall: Mean = 0.967, Std = 0.045\n"
     ]
    }
   ],
   "source": [
    "# Create SVM classifer\n",
    "# Using standard scaling since SVMs are sensitive to unscaled data\n",
    "iris_svm_classifier = make_pipeline(StandardScaler(), SVC(random_state=42))\n",
    "\n",
    "iris_svm_classifier_scores = cross_validate(iris_svm_classifier, iris_X, iris_y, cv=10, scoring=scoring)\n",
    "\n",
    "# Calculate and display mean and standard deviation of scores for Support Vector Machine Classifier\n",
    "print(f\"Accuracy: Mean = {np.mean(iris_svm_classifier_scores['test_accuracy']):.3f}, Std = {np.std(iris_svm_classifier_scores['test_accuracy']):.3f}\")\n",
    "print(f\"Precision: Mean = {np.mean(iris_svm_classifier_scores['test_precision']):.3f}, Std = {np.std(iris_svm_classifier_scores['test_precision']):.3f}\")\n",
    "print(f\"Recall: Mean = {np.mean(iris_svm_classifier_scores['test_recall']):.3f}, Std = {np.std(iris_svm_classifier_scores['test_recall']):.3f}\")"
   ]
  },
  {
   "cell_type": "markdown",
   "metadata": {},
   "source": [
    "Perform same analysis for Iris dataset as for wine"
   ]
  },
  {
   "cell_type": "code",
   "execution_count": null,
   "metadata": {},
   "outputs": [],
   "source": [
    "# Extract plotting scores for each classifier for Iris dataset\n",
    "iris_decision_tree_plotting_scores = extract_plotting_scores(iris_decision_tree_scores)\n",
    "iris_naive_bayes_plotting_scores = extract_plotting_scores(iris_naive_bayes_scores)\n",
    "iris_svm_classifier_plotting_scores = extract_plotting_scores(iris_svm_classifier_scores)\n",
    "\n",
    "# Reformat plotting scores into a data convenient for plotting\n",
    "iris_plotting_data = format_data(iris_decision_tree_plotting_scores, iris_naive_bayes_plotting_scores, iris_svm_classifier_plotting_scores)\n",
    "\n",
    "# Plot each metric with its range and mean for each classifier on the Iris dataset\n",
    "for metric in metrics:\n",
    "    plot_metric_with_range(wine_plotting_data, metric)\n",
    "\n"
   ]
  },
  {
   "cell_type": "markdown",
   "metadata": {},
   "source": []
  },
  {
   "cell_type": "code",
   "execution_count": null,
   "metadata": {},
   "outputs": [],
   "source": []
  }
 ],
 "metadata": {
  "kernelspec": {
   "display_name": "base",
   "language": "python",
   "name": "python3"
  },
  "language_info": {
   "codemirror_mode": {
    "name": "ipython",
    "version": 3
   },
   "file_extension": ".py",
   "mimetype": "text/x-python",
   "name": "python",
   "nbconvert_exporter": "python",
   "pygments_lexer": "ipython3",
   "version": "3.11.5"
  }
 },
 "nbformat": 4,
 "nbformat_minor": 2
}
